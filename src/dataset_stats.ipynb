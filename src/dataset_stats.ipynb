{
 "cells": [
  {
   "cell_type": "code",
   "execution_count": 1,
   "metadata": {},
   "outputs": [
    {
     "name": "stderr",
     "output_type": "stream",
     "text": [
      "/opt/homebrew/Caskroom/miniconda/base/envs/early-exits/lib/python3.11/site-packages/tqdm/auto.py:21: TqdmWarning: IProgress not found. Please update jupyter and ipywidgets. See https://ipywidgets.readthedocs.io/en/stable/user_install.html\n",
      "  from .autonotebook import tqdm as notebook_tqdm\n"
     ]
    }
   ],
   "source": [
    "import torch\n",
    "from xsum_dataset import XSUMDataset\n",
    "from datasets import load_dataset\n",
    "from transformers import LlamaTokenizer\n",
    "import matplotlib.pyplot as plt"
   ]
  },
  {
   "cell_type": "code",
   "execution_count": 2,
   "metadata": {},
   "outputs": [
    {
     "name": "stdout",
     "output_type": "stream",
     "text": [
      "False\n"
     ]
    }
   ],
   "source": [
    "print(torch.cuda.is_available())"
   ]
  },
  {
   "cell_type": "code",
   "execution_count": 3,
   "metadata": {},
   "outputs": [],
   "source": [
    "tokenizer = LlamaTokenizer.from_pretrained(\"meta-llama/Llama-2-7b-chat-hf\")\n",
    "# dataset = load_dataset(\"EdinburghNLP/xsum\", split=\"train\", num_proc=8)\n",
    "max_length = 4096\n"
   ]
  },
  {
   "cell_type": "code",
   "execution_count": 4,
   "metadata": {},
   "outputs": [],
   "source": [
    "xsum = XSUMDataset(tokenizer, max_length=max_length, num_proc=8)"
   ]
  },
  {
   "cell_type": "code",
   "execution_count": 5,
   "metadata": {},
   "outputs": [
    {
     "data": {
      "text/plain": [
       "{'input_ids': tensor([    1,   450,  2989,  3438,   310, 18658,   297, 19017, 22389, 29892,\n",
       "           697,   310,   278, 10161, 17322, 15201, 29892,   338,  1603,  1641,\n",
       "          1223, 11517, 29889,    13,  5612,  1466,   664,   338,   373, 17696,\n",
       "           297, 10875,   860,   322,  1784, 25320,   297,  3938,   774,  2222,\n",
       "         14812,  3933, 28042, 15201,   491, 13407,  4094, 29889,    13,  5323,\n",
       "          1144,   373,   278,  5833, 12180,  1667,  1220,  3700,   766, 18953,\n",
       "          2861,   304, 18658,   472,   278, 12718,  4885, 10630,   328,  5313,\n",
       "         29889,    13, 14804,  5381,   267,   322, 22329,   414,   892, 15201,\n",
       "           491,  5685,  3689,   297, 19017, 22389,  1156,   278,  6163,   315,\n",
       "           929, 11969,   287,   964,   278,  4726, 29889,    13,  6730,  7668,\n",
       "         28432,   624,   332, 25339, 16669,   278,  4038,   304, 16096,   278,\n",
       "         18658, 29889,    13,  1576, 19922,  2078,  3791,   263, 11551,   292,\n",
       "         10090, 29892,  5685,  3689,  1784, 12128,  4426,   373, 14212,  7103,\n",
       "           448,   278,  1667, 17394,  3262, 17826, 24658, 29889,    13, 22438,\n",
       "          2353,   323,   403, 29892,  1058,  1914, 29879,   278,   315,  2559,\n",
       "           314,   265,  9243,  1725,   607,   471, 28042, 15201, 29892,  1497,\n",
       "          1183,  1033,   451, 12570,   278,  2473, 29899,   351,  3819,  2933,\n",
       "          2748,   278,  5685,   397,  7124, 29889,    13, 17245, 29892,  1183,\n",
       "          1497,   901,  5557,  1230,   664,  1033,   505,  1063,  8988,   714,\n",
       "           304,  9801,   278, 11551,   292, 10090,  1258,   451,  4418, 29889,\n",
       "            13, 29908,  3112,   338,  5189,   541,   306,   437,  1348,   727,\n",
       "           338,   577,  1568,   970,   537,   363, 21139, 29888,  2722,   322,\n",
       "           278,   405,   389,   448,   322,   306, 14909, 11188,   393,   448,\n",
       "           541,   372,   338,  4359,   763,   591, 29915,   276, 22851,   287,\n",
       "           470, 20898,  1699,  1183,  1497, 29889,    13, 29908,  7058,  1122,\n",
       "           451,   367,  1565,   541,   372,   338,  6060,   590, 18520,   975,\n",
       "           278,  1833,  2846,  3841, 29889,    13, 29908, 11008,   892,   366,\n",
       "           451,  7960,   304,  1371,   502,   263,  2586,   901,   746,   278,\n",
       "          9177,   322,   278, 21200,  6655, 29879,   750,  7695,   714,  3026,\n",
       "            13,  6816,   273,  8000, 29892,   263,  5685,   397,  6655,  9242,\n",
       "           297,  2058,  4822,   278,   350, 20488,  1363,   310,   278,  4868,\n",
       "         17251, 29889,    13, 15666,   774,   793,   471, 28042,  7124,   491,\n",
       "          4828, 29892, 16267,   292,  5717,   304, 14944,   901,   822,  2063,\n",
       "           297,   278,  4038, 29889,    13,  4421,  1501,   728,   350, 20488,\n",
       "          8831,   756,  1925,   263,  1051,   373,   967,  4700,   310,   278,\n",
       "         25320, 17322, 15201,   322, 18563,   505,  1063,  5065,  3192,   451,\n",
       "           304, 11455, 18424, 18906, 29889,    13,  1576, 29453,  9173, 29915,\n",
       "         29879, 20723, 29891, 17780, 11822,  4827, 11438,  2330,   471,   297,\n",
       "         10875,   860,   373, 27822,   304,  1074,   278,  6434,   937,  1361,\n",
       "         29889,    13,  3868,  1497,   372,   471,  4100,   304,   679,   278,\n",
       "          5685,   397, 13047,  3814,  1492,   541,  1250,   287,  5717,   304,\n",
       "          6210,   701,   278,  1889, 29889,    13, 29908, 29902,   471,  3755,\n",
       "          4586,   633,   547,   491,   278,  5253,   310, 18658,   393,   756,\n",
       "          1063,  2309,  1699,   540,  1497, 29889,    13, 29908,  6039, 16604,\n",
       "           372,   338,  5192, 29899,  1030,  5086,   363,  2305,  1058,   505,\n",
       "          1063, 11826,   714,   310,  1009, 17774,   322,   278, 10879,   373,\n",
       "          5381,   267,  1213,    13,  3868,  1497,   372,   471,  4100,   393,\n",
       "           376,   326, 13847,  6576, 29908,   892,  4586,   304, 12566,   278,\n",
       "         10161,  1556, 23180,   519,   322,   263,  2821,  5335,   300,   519,\n",
       "          1925,   297,  2058,   363,  5685,   397,  5557,   291, 13900, 29889,\n",
       "            13, 25559,   366,  1063, 15201,   491,  5685,  3689,   297, 21139,\n",
       "         29888,  2722,   322,  8130,   340,   388,   470,   278,   350, 20488,\n",
       "         29973, 24948,   502,  1048,   596,  7271,   310,   278,  6434,   322,\n",
       "           920,   372,   471, 16459, 29889, 22608,   502,   373,  5535, 29895,\n",
       "          6793, 29889, 15753, 29992,  1327, 29883, 29889,  1111, 29889,  2679,\n",
       "           470,   270,   398, 29888,  2722, 29992,  1327, 29883, 29889,  1111,\n",
       "         29889,  2679, 29889,   323, 29931, 29936,  8353, 29901,   315, 14044,\n",
       "         29899,   786,  6931,   526,  3133,   292,  4822,   278, 17780,   350,\n",
       "         20488,   322, 21139, 29888,  2722,   322,  8130,   340,   388,  1156,\n",
       "          5685,  3689,  8581,   491, 24444,  4976, 29889,     2]),\n",
       " 'attention_mask': tensor([1, 1, 1, 1, 1, 1, 1, 1, 1, 1, 1, 1, 1, 1, 1, 1, 1, 1, 1, 1, 1, 1, 1, 1,\n",
       "         1, 1, 1, 1, 1, 1, 1, 1, 1, 1, 1, 1, 1, 1, 1, 1, 1, 1, 1, 1, 1, 1, 1, 1,\n",
       "         1, 1, 1, 1, 1, 1, 1, 1, 1, 1, 1, 1, 1, 1, 1, 1, 1, 1, 1, 1, 1, 1, 1, 1,\n",
       "         1, 1, 1, 1, 1, 1, 1, 1, 1, 1, 1, 1, 1, 1, 1, 1, 1, 1, 1, 1, 1, 1, 1, 1,\n",
       "         1, 1, 1, 1, 1, 1, 1, 1, 1, 1, 1, 1, 1, 1, 1, 1, 1, 1, 1, 1, 1, 1, 1, 1,\n",
       "         1, 1, 1, 1, 1, 1, 1, 1, 1, 1, 1, 1, 1, 1, 1, 1, 1, 1, 1, 1, 1, 1, 1, 1,\n",
       "         1, 1, 1, 1, 1, 1, 1, 1, 1, 1, 1, 1, 1, 1, 1, 1, 1, 1, 1, 1, 1, 1, 1, 1,\n",
       "         1, 1, 1, 1, 1, 1, 1, 1, 1, 1, 1, 1, 1, 1, 1, 1, 1, 1, 1, 1, 1, 1, 1, 1,\n",
       "         1, 1, 1, 1, 1, 1, 1, 1, 1, 1, 1, 1, 1, 1, 1, 1, 1, 1, 1, 1, 1, 1, 1, 1,\n",
       "         1, 1, 1, 1, 1, 1, 1, 1, 1, 1, 1, 1, 1, 1, 1, 1, 1, 1, 1, 1, 1, 1, 1, 1,\n",
       "         1, 1, 1, 1, 1, 1, 1, 1, 1, 1, 1, 1, 1, 1, 1, 1, 1, 1, 1, 1, 1, 1, 1, 1,\n",
       "         1, 1, 1, 1, 1, 1, 1, 1, 1, 1, 1, 1, 1, 1, 1, 1, 1, 1, 1, 1, 1, 1, 1, 1,\n",
       "         1, 1, 1, 1, 1, 1, 1, 1, 1, 1, 1, 1, 1, 1, 1, 1, 1, 1, 1, 1, 1, 1, 1, 1,\n",
       "         1, 1, 1, 1, 1, 1, 1, 1, 1, 1, 1, 1, 1, 1, 1, 1, 1, 1, 1, 1, 1, 1, 1, 1,\n",
       "         1, 1, 1, 1, 1, 1, 1, 1, 1, 1, 1, 1, 1, 1, 1, 1, 1, 1, 1, 1, 1, 1, 1, 1,\n",
       "         1, 1, 1, 1, 1, 1, 1, 1, 1, 1, 1, 1, 1, 1, 1, 1, 1, 1, 1, 1, 1, 1, 1, 1,\n",
       "         1, 1, 1, 1, 1, 1, 1, 1, 1, 1, 1, 1, 1, 1, 1, 1, 1, 1, 1, 1, 1, 1, 1, 1,\n",
       "         1, 1, 1, 1, 1, 1, 1, 1, 1, 1, 1, 1, 1, 1, 1, 1, 1, 1, 1, 1, 1, 1, 1, 1,\n",
       "         1, 1, 1, 1, 1, 1, 1, 1, 1, 1, 1, 1, 1, 1, 1, 1, 1, 1, 1, 1, 1, 1, 1, 1,\n",
       "         1, 1, 1, 1, 1, 1, 1, 1, 1, 1, 1, 1, 1, 1, 1, 1, 1, 1, 1, 1, 1, 1, 1, 1,\n",
       "         1, 1, 1, 1, 1, 1, 1, 1, 1, 1, 1, 1, 1, 1, 1, 1, 1, 1, 1, 1, 1, 1, 1, 1,\n",
       "         1, 1, 1, 1, 1, 1, 1, 1, 1, 1, 1, 1, 1, 1, 1, 1, 1, 1, 1, 1, 1, 1, 1, 1,\n",
       "         1, 1, 1, 1, 1, 1, 1, 1, 1, 1, 1, 1, 1, 1, 1, 1, 1, 1, 1, 1, 1, 1, 1, 1,\n",
       "         1, 1, 1, 1, 1, 1, 1, 1, 1, 1, 1, 1, 1, 1, 1, 1, 1, 1, 1, 1, 1, 1, 1, 1,\n",
       "         1, 1, 1, 1, 1, 1, 1, 1, 1, 1, 1, 1, 1, 1, 1, 1, 1, 1, 1, 1, 1]),\n",
       " 'labels': tensor([-100, -100, -100,  ..., -100, -100, -100])}"
      ]
     },
     "execution_count": 5,
     "metadata": {},
     "output_type": "execute_result"
    }
   ],
   "source": [
    "xsum[0][\"input_ids\"]"
   ]
  },
  {
   "cell_type": "code",
   "execution_count": 20,
   "metadata": {},
   "outputs": [
    {
     "name": "stdout",
     "output_type": "stream",
     "text": [
      "BOS ID: 1, EOS: 2, PAD: None\n"
     ]
    }
   ],
   "source": [
    "print(f\"BOS ID: {tokenizer.bos_token_id}, EOS: {tokenizer.eos_token_id}, PAD: {tokenizer.pad_token}\")"
   ]
  },
  {
   "cell_type": "code",
   "execution_count": 25,
   "metadata": {},
   "outputs": [
    {
     "name": "stderr",
     "output_type": "stream",
     "text": [
      "Keyword arguments {'add_bos_token': True} not recognized.\n",
      "Keyword arguments {'add_eos_token': True} not recognized.\n"
     ]
    }
   ],
   "source": [
    "doc_text = dataset[0][\"document\"].strip()\n",
    "sum_text = (\" TL;DR: \" + dataset[0][\"summary\"]).strip()\n",
    "doc_encodings = tokenizer(\n",
    "                    doc_text,\n",
    "                    max_length=max_length,\n",
    "                    truncation=True,\n",
    "                    return_tensors=\"pt\" # Pytorch tensors\n",
    "                )\n",
    "\n",
    "summary_encodings = tokenizer(\n",
    "    sum_text,\n",
    "    max_length=max_length,\n",
    "    truncation=True,\n",
    "    return_tensors=\"pt\" # Pytorch tensors\n",
    ")"
   ]
  },
  {
   "cell_type": "code",
   "execution_count": 24,
   "metadata": {},
   "outputs": [
    {
     "data": {
      "text/plain": [
       "tensor([    1,   450,  2989,  3438,   310, 18658,   297, 19017, 22389, 29892,\n",
       "          697,   310,   278, 10161, 17322, 15201, 29892,   338,  1603,  1641,\n",
       "         1223, 11517, 29889,    13,  5612,  1466,   664,   338,   373, 17696,\n",
       "          297, 10875,   860,   322,  1784, 25320,   297,  3938,   774,  2222,\n",
       "        14812,  3933, 28042, 15201,   491, 13407,  4094, 29889,    13,  5323,\n",
       "         1144,   373,   278,  5833, 12180,  1667,  1220,  3700,   766, 18953,\n",
       "         2861,   304, 18658,   472,   278, 12718,  4885, 10630,   328,  5313,\n",
       "        29889,    13, 14804,  5381,   267,   322, 22329,   414,   892, 15201,\n",
       "          491,  5685,  3689,   297, 19017, 22389,  1156,   278,  6163,   315,\n",
       "          929, 11969,   287,   964,   278,  4726, 29889,    13,  6730,  7668,\n",
       "        28432,   624,   332, 25339, 16669,   278,  4038,   304, 16096,   278,\n",
       "        18658, 29889,    13,  1576, 19922,  2078,  3791,   263, 11551,   292,\n",
       "        10090, 29892,  5685,  3689,  1784, 12128,  4426,   373, 14212,  7103,\n",
       "          448,   278,  1667, 17394,  3262, 17826, 24658, 29889,    13, 22438,\n",
       "         2353,   323,   403, 29892,  1058,  1914, 29879,   278,   315,  2559,\n",
       "          314,   265,  9243,  1725,   607,   471, 28042, 15201, 29892,  1497,\n",
       "         1183,  1033,   451, 12570,   278,  2473, 29899,   351,  3819,  2933,\n",
       "         2748,   278,  5685,   397,  7124, 29889,    13, 17245, 29892,  1183,\n",
       "         1497,   901,  5557,  1230,   664,  1033,   505,  1063,  8988,   714,\n",
       "          304,  9801,   278, 11551,   292, 10090,  1258,   451,  4418, 29889,\n",
       "           13, 29908,  3112,   338,  5189,   541,   306,   437,  1348,   727,\n",
       "          338,   577,  1568,   970,   537,   363, 21139, 29888,  2722,   322,\n",
       "          278,   405,   389,   448,   322,   306, 14909, 11188,   393,   448,\n",
       "          541,   372,   338,  4359,   763,   591, 29915,   276, 22851,   287,\n",
       "          470, 20898,  1699,  1183,  1497, 29889,    13, 29908,  7058,  1122,\n",
       "          451,   367,  1565,   541,   372,   338,  6060,   590, 18520,   975,\n",
       "          278,  1833,  2846,  3841, 29889,    13, 29908, 11008,   892,   366,\n",
       "          451,  7960,   304,  1371,   502,   263,  2586,   901,   746,   278,\n",
       "         9177,   322,   278, 21200,  6655, 29879,   750,  7695,   714,  3026,\n",
       "           13,  6816,   273,  8000, 29892,   263,  5685,   397,  6655,  9242,\n",
       "          297,  2058,  4822,   278,   350, 20488,  1363,   310,   278,  4868,\n",
       "        17251, 29889,    13, 15666,   774,   793,   471, 28042,  7124,   491,\n",
       "         4828, 29892, 16267,   292,  5717,   304, 14944,   901,   822,  2063,\n",
       "          297,   278,  4038, 29889,    13,  4421,  1501,   728,   350, 20488,\n",
       "         8831,   756,  1925,   263,  1051,   373,   967,  4700,   310,   278,\n",
       "        25320, 17322, 15201,   322, 18563,   505,  1063,  5065,  3192,   451,\n",
       "          304, 11455, 18424, 18906, 29889,    13,  1576, 29453,  9173, 29915,\n",
       "        29879, 20723, 29891, 17780, 11822,  4827, 11438,  2330,   471,   297,\n",
       "        10875,   860,   373, 27822,   304,  1074,   278,  6434,   937,  1361,\n",
       "        29889,    13,  3868,  1497,   372,   471,  4100,   304,   679,   278,\n",
       "         5685,   397, 13047,  3814,  1492,   541,  1250,   287,  5717,   304,\n",
       "         6210,   701,   278,  1889, 29889,    13, 29908, 29902,   471,  3755,\n",
       "         4586,   633,   547,   491,   278,  5253,   310, 18658,   393,   756,\n",
       "         1063,  2309,  1699,   540,  1497, 29889,    13, 29908,  6039, 16604,\n",
       "          372,   338,  5192, 29899,  1030,  5086,   363,  2305,  1058,   505,\n",
       "         1063, 11826,   714,   310,  1009, 17774,   322,   278, 10879,   373,\n",
       "         5381,   267,  1213,    13,  3868,  1497,   372,   471,  4100,   393,\n",
       "          376,   326, 13847,  6576, 29908,   892,  4586,   304, 12566,   278,\n",
       "        10161,  1556, 23180,   519,   322,   263,  2821,  5335,   300,   519,\n",
       "         1925,   297,  2058,   363,  5685,   397,  5557,   291, 13900, 29889,\n",
       "           13, 25559,   366,  1063, 15201,   491,  5685,  3689,   297, 21139,\n",
       "        29888,  2722,   322,  8130,   340,   388,   470,   278,   350, 20488,\n",
       "        29973, 24948,   502,  1048,   596,  7271,   310,   278,  6434,   322,\n",
       "          920,   372,   471, 16459, 29889, 22608,   502,   373,  5535, 29895,\n",
       "         6793, 29889, 15753, 29992,  1327, 29883, 29889,  1111, 29889,  2679,\n",
       "          470,   270,   398, 29888,  2722, 29992,  1327, 29883, 29889,  1111,\n",
       "        29889,  2679, 29889])"
      ]
     },
     "execution_count": 24,
     "metadata": {},
     "output_type": "execute_result"
    }
   ],
   "source": [
    "doc_encodings[\"input_ids\"].squeeze()"
   ]
  },
  {
   "cell_type": "code",
   "execution_count": 9,
   "metadata": {},
   "outputs": [],
   "source": [
    "lengths = []\n",
    "for i in range(len(train_dataset)):\n",
    "    lengths.append(train_dataset[i])\n"
   ]
  },
  {
   "cell_type": "code",
   "execution_count": null,
   "metadata": {},
   "outputs": [
    {
     "data": {
      "image/png": "[encoded data removed]",
      "text/plain": [
       "<Figure size 432x288 with 1 Axes>"
      ]
     },
     "metadata": {
      "needs_background": "light"
     },
     "output_type": "display_data"
    }
   ],
   "source": [
    "plt.hist(lengths, bins=100, range=(0, 10000))\n",
    "plt.show()"
   ]
  },
  {
   "cell_type": "code",
   "execution_count": null,
   "metadata": {},
   "outputs": [],
   "source": [
    "count = 0\n",
    "for num in lengths:\n",
    "    if num > 4096:\n",
    "        count += 1\n",
    "print(count)\n"
   ]
  }
 ],
 "metadata": {
  "kernelspec": {
   "display_name": "early-exits",
   "language": "python",
   "name": "python3"
  },
  "language_info": {
   "codemirror_mode": {
    "name": "ipython",
    "version": 3
   },
   "file_extension": ".py",
   "mimetype": "text/x-python",
   "name": "python",
   "nbconvert_exporter": "python",
   "pygments_lexer": "ipython3",
   "version": "3.11.10"
  }
 },
 "nbformat": 4,
 "nbformat_minor": 2
}
